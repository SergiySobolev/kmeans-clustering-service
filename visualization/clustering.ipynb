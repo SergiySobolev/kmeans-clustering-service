{
 "cells": [
  {
   "cell_type": "code",
   "execution_count": 1,
   "metadata": {
    "collapsed": true
   },
   "outputs": [
    {
     "data": {
      "text/plain": "Button(description='Generate data', style=ButtonStyle())",
      "application/vnd.jupyter.widget-view+json": {
       "version_major": 2,
       "version_minor": 0,
       "model_id": "7a594eabfed84ba2a49010af902e4020"
      }
     },
     "metadata": {},
     "output_type": "display_data"
    }
   ],
   "source": [
    "import requests\n",
    "from IPython.display import display\n",
    "from ipywidgets import widgets\n",
    "import pandas as pd\n",
    "import matplotlib.pyplot as plt\n",
    "%matplotlib inline\n",
    "\n",
    "generate_data_button = widgets.Button(description=\"Generate data\")\n",
    "\n",
    "df = []\n",
    "def generate_data(b):\n",
    "    global df\n",
    "    url = 'http://localhost:11111/generatedata/default'\n",
    "    headers = {'Content-Type':'application/json'}\n",
    "    body = \"{\\\"clusterNum\\\": 3,\" \\\n",
    "           \" \\\"bounds\\\": [[100, 250],[100, 250],[350, 750],[350, 750],[1000, 2500],[1000, 2500]]}\"\n",
    "    data = {'headers': headers, 'body': body}\n",
    "    response = requests.get(url, data)\n",
    "    input_data = response.json()['data']\n",
    "    df = pd.DataFrame(input_data, columns =['x', 'y'], dtype = int)\n",
    "    show_data()\n",
    "\n",
    "def show_data():\n",
    "    fig = plt.figure(figsize=(20, 15))\n",
    "    ax = fig.add_subplot(111)\n",
    "    ax.scatter(x=df[\"x\"],\n",
    "               y=df[\"y\"],\n",
    "               s=30,\n",
    "               c='b',\n",
    "               label='Generated data')\n",
    "\n",
    "display(generate_data_button)\n",
    "\n",
    "generate_data_button.on_click(generate_data)\n"
   ]
  },
  {
   "cell_type": "code",
   "execution_count": null,
   "outputs": [],
   "source": [],
   "metadata": {
    "collapsed": false,
    "pycharm": {
     "name": "#%%\n"
    }
   }
  }
 ],
 "metadata": {
  "kernelspec": {
   "name": "pycharm-48f3764e",
   "language": "python",
   "display_name": "PyCharm (anomaly-detection)"
  },
  "language_info": {
   "codemirror_mode": {
    "name": "ipython",
    "version": 2
   },
   "file_extension": ".py",
   "mimetype": "text/x-python",
   "name": "python",
   "nbconvert_exporter": "python",
   "pygments_lexer": "ipython2",
   "version": "2.7.6"
  }
 },
 "nbformat": 4,
 "nbformat_minor": 0
}