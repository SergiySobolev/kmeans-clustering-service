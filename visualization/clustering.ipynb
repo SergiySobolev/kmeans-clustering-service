{
 "cells": [
  {
   "cell_type": "code",
   "execution_count": 10,
   "metadata": {},
   "outputs": [
    {
     "data": {
      "text/plain": "Button(description='Generate data', style=ButtonStyle())",
      "application/vnd.jupyter.widget-view+json": {
       "version_major": 2,
       "version_minor": 0,
       "model_id": "12b793cb311f42b88166d39532586bb5"
      }
     },
     "metadata": {},
     "output_type": "display_data"
    }
   ],
   "source": [
    "import requests\n",
    "import os\n",
    "from IPython.display import display\n",
    "from ipywidgets import widgets\n",
    "import pandas as pd\n",
    "import matplotlib.pyplot as plt\n",
    "%matplotlib inline\n",
    "\n",
    "generate_data_button = widgets.Button(description=\"Generate data\")\n",
    "\n",
    "df = []\n",
    "\n",
    "def get_host():\n",
    "    host = os.getenv(\"ENV_KMEANS_BACKEND_HOST\")\n",
    "    if not host:\n",
    "        host = \"localhost\"\n",
    "    return host\n",
    "\n",
    "def get_port():\n",
    "    port = os.getenv(\"ENV_KMEANS_BACKEND_PORT\")\n",
    "    if not port:\n",
    "        port = 11111\n",
    "    return port\n",
    "\n",
    "\n",
    "def generate_data(b):\n",
    "    global df\n",
    "    host = get_host()\n",
    "    port = get_port()\n",
    "    url = 'http://{}:{}/generatedata'.format(host, port)\n",
    "    print(url)\n",
    "    headers = {'Content-Type':'application/json'}\n",
    "    body = {'clusterNum': 3,'bounds': [[100, 250],[100, 250],[350, 750],[350, 750],[1000, 2500],[1000, 2500]]}\n",
    "    response = requests.post(url, json=body, headers=headers)\n",
    "    input_data = response.json()['data']\n",
    "    df = pd.DataFrame(input_data, columns =['x', 'y'], dtype = int)\n",
    "    show_data()\n",
    "\n",
    "def show_data():\n",
    "    fig = plt.figure(figsize=(20, 15))\n",
    "    ax = fig.add_subplot(111)\n",
    "    ax.scatter(x=df[\"x\"],\n",
    "               y=df[\"y\"],\n",
    "               s=30,\n",
    "               c='b',\n",
    "               label='Generated data')\n",
    "\n",
    "display(generate_data_button)\n",
    "\n",
    "generate_data_button.on_click(generate_data)\n"
   ]
  },
  {
   "cell_type": "code",
   "execution_count": 10,
   "metadata": {
    "pycharm": {
     "name": "#%%\n"
    }
   },
   "outputs": [],
   "source": []
  }
 ],
 "metadata": {
  "kernelspec": {
   "display_name": "PyCharm (anomaly-detection)",
   "language": "python",
   "name": "pycharm-48f3764e"
  },
  "language_info": {
   "codemirror_mode": {
    "name": "ipython",
    "version": 3
   },
   "file_extension": ".py",
   "mimetype": "text/x-python",
   "name": "python",
   "nbconvert_exporter": "python",
   "pygments_lexer": "ipython3",
   "version": "3.8.5"
  }
 },
 "nbformat": 4,
 "nbformat_minor": 1
}