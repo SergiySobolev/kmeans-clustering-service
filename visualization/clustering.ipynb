{
 "cells": [
  {
   "cell_type": "code",
   "execution_count": 26,
   "metadata": {
    "collapsed": true
   },
   "outputs": [
    {
     "data": {
      "text/plain": "Button(description='Generate data', style=ButtonStyle())",
      "application/vnd.jupyter.widget-view+json": {
       "version_major": 2,
       "version_minor": 0,
       "model_id": "fe26a573a1dd43f9890ee10745506881"
      }
     },
     "metadata": {},
     "output_type": "display_data"
    },
    {
     "name": "stdout",
     "output_type": "stream",
     "text": [
      "        x     y\n",
      "0     102   107\n",
      "1     181   180\n",
      "2     135   129\n",
      "3     123   123\n",
      "4     140   168\n",
      "..    ...   ...\n",
      "295  2396  2187\n",
      "296  2073  2044\n",
      "297  2071  2371\n",
      "298  2217  2252\n",
      "299  2115  2208\n",
      "\n",
      "[300 rows x 2 columns]\n"
     ]
    }
   ],
   "source": [
    "import requests\n",
    "from IPython.display import display\n",
    "from ipywidgets import widgets\n",
    "import pandas as pd\n",
    "\n",
    "generate_data_button = widgets.Button(description=\"Generate data\")\n",
    "\n",
    "df = []\n",
    "def generate_data(b):\n",
    "    global df\n",
    "    url = 'http://localhost:11111/generatedata/default'\n",
    "    headers = {'Content-Type':'application/json'}\n",
    "    body = \"{\\\"clusterNum\\\": 3,\" \\\n",
    "           \" \\\"bounds\\\": [[100, 200],[100, 200],[350, 550],[350, 550],[2000, 2500],[2000, 2500]]}\"\n",
    "    data = {'headers': headers, 'body': body}\n",
    "    response = requests.get(url, data)\n",
    "    input_data = response.json()['data']\n",
    "    df = pd.DataFrame(input_data, columns =['x', 'y'], dtype = int)\n",
    "    show_data()\n",
    "\n",
    "def show_data():\n",
    "    df.head()\n",
    "\n",
    "display(generate_data_button)\n",
    "\n",
    "generate_data_button.on_click(generate_data)"
   ]
  }
 ],
 "metadata": {
  "kernelspec": {
   "name": "pycharm-48f3764e",
   "language": "python",
   "display_name": "PyCharm (anomaly-detection)"
  },
  "language_info": {
   "codemirror_mode": {
    "name": "ipython",
    "version": 2
   },
   "file_extension": ".py",
   "mimetype": "text/x-python",
   "name": "python",
   "nbconvert_exporter": "python",
   "pygments_lexer": "ipython2",
   "version": "2.7.6"
  }
 },
 "nbformat": 4,
 "nbformat_minor": 0
}